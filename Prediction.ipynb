{
 "cells": [
  {
   "cell_type": "code",
   "execution_count": 1,
   "metadata": {},
   "outputs": [],
   "source": [
    "import pandas as pd \n",
    "import joblib\n",
    "import numpy as np\n"
   ]
  },
  {
   "cell_type": "code",
   "execution_count": 2,
   "metadata": {},
   "outputs": [
    {
     "name": "stdout",
     "output_type": "stream",
     "text": [
      "Customer 1: 🔮 Churn Probability = 0.6975\n",
      "   🔴 Likely to churn.\n",
      "Customer 2: 🔮 Churn Probability = 0.4699\n",
      "   🟢 Not likely to churn.\n",
      "Customer 3: 🔮 Churn Probability = 0.3415\n",
      "   🟢 Not likely to churn.\n",
      "Customer 4: 🔮 Churn Probability = 0.5826\n",
      "   🔴 Likely to churn.\n"
     ]
    },
    {
     "name": "stderr",
     "output_type": "stream",
     "text": [
      "c:\\Users\\VISHESH\\AppData\\Local\\Programs\\Python\\Python312\\Lib\\site-packages\\sklearn\\utils\\validation.py:2739: UserWarning: X does not have valid feature names, but GradientBoostingClassifier was fitted with feature names\n",
      "  warnings.warn(\n",
      "c:\\Users\\VISHESH\\AppData\\Local\\Programs\\Python\\Python312\\Lib\\site-packages\\sklearn\\utils\\validation.py:2739: UserWarning: X does not have valid feature names, but LogisticRegression was fitted with feature names\n",
      "  warnings.warn(\n",
      "c:\\Users\\VISHESH\\AppData\\Local\\Programs\\Python\\Python312\\Lib\\site-packages\\sklearn\\utils\\validation.py:2739: UserWarning: X does not have valid feature names, but AdaBoostClassifier was fitted with feature names\n",
      "  warnings.warn(\n"
     ]
    }
   ],
   "source": [
    "\n",
    "\n",
    "# Load the trained model\n",
    "model = joblib.load('model.pkl')\n",
    "\n",
    "# Create multiple sample customer data with an extra feature (defaulting to 0.0)\n",
    "customer_data = np.array([\n",
    "    [20, 45.0, 900.0, 1, 0, 1, 0, 1, 0, 1, 0, 1, 1, 0, 0, 0, 1, 1, 2, 0.0],  # Customer 1\n",
    "    [10, 60.0, 600.0, 0, 1, 0, 1, 1, 1, 2, 1, 0, 0, 1, 1, 0, 2, 0, 1, 0.0],  # Customer 2\n",
    "    [40, 2, 750.0, 1, 1800, 2700, 0, 1, 0, 4, 1, 250, 3, 0, 0, 1, 0, 1, 3, 1],\n",
    "    [5, 30.0, 150.0, 0, 0, 1, 0, 1, 0, 1, 0, 0, 1, 1, 0, 0, 1, 0, 2, 0.0]    # Customer 4\n",
    "])  \n",
    "\n",
    "# Ensure correct data type\n",
    "customer_data = customer_data.astype(float)\n",
    "\n",
    "# Predict churn probabilities for all customers\n",
    "churn_probs = model.predict_proba(customer_data)[:, 1]\n",
    "\n",
    "# Print probabilities and decisions\n",
    "for i, prob in enumerate(churn_probs):\n",
    "    print(f\"Customer {i+1}: 🔮 Churn Probability = {prob:.4f}\")\n",
    "    if prob > 0.5:\n",
    "        print(\"   🔴 Likely to churn.\")\n",
    "    else:\n",
    "        print(\"   🟢 Not likely to churn.\")\n"
   ]
  }
 ],
 "metadata": {
  "kernelspec": {
   "display_name": "Python 3",
   "language": "python",
   "name": "python3"
  },
  "language_info": {
   "codemirror_mode": {
    "name": "ipython",
    "version": 3
   },
   "file_extension": ".py",
   "mimetype": "text/x-python",
   "name": "python",
   "nbconvert_exporter": "python",
   "pygments_lexer": "ipython3",
   "version": "3.12.7"
  }
 },
 "nbformat": 4,
 "nbformat_minor": 2
}
